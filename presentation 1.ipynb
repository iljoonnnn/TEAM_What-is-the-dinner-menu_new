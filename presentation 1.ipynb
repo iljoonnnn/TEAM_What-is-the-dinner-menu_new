{
  "cells": [
    {
      "cell_type": "raw",
      "metadata": {},
      "source": [
        "---\n",
        "title: presentation 1\n",
        "---"
      ],
      "id": "c4a0dbf6"
    },
    {
      "cell_type": "markdown",
      "metadata": {},
      "source": [
        "# KB데이터\n",
        "\n",
        "![](kb.png) 60대 이상 소비자를 타켓으로 어느 지역을 활성화하는게 효과적일까?\n",
        "\n",
        "### \n",
        "\n",
        "## \n",
        "\n",
        "# 라이브러리 불러오기\n"
      ],
      "id": "ce0b8635"
    },
    {
      "cell_type": "code",
      "metadata": {},
      "source": [
        "import pandas as pd\n",
        "import numpy as np\n",
        "import matplotlib.pyplot as plt\n",
        "import seaborn as sns\n",
        "import plotly.express as px"
      ],
      "id": "718239c4",
      "execution_count": null,
      "outputs": []
    },
    {
      "cell_type": "markdown",
      "metadata": {},
      "source": [
        "## \n",
        "\n",
        "# 데이터 불러오기 :\n",
        "\n",
        "# pop 데이터의 문자열 ','를 제외하고 수치컬럼으로 가져오기\n"
      ],
      "id": "f7255444"
    },
    {
      "cell_type": "code",
      "metadata": {},
      "source": [
        "market_raw = pd.read_excel(\"data/traditionalmarket.xlsx\")\n",
        "market = market_raw.copy()\n",
        "pop_raw = pd.read_excel('data/pop_2015.xlsx', thousands = ',') #쉼표 없애주고 숫자로 바꿔줌.\n",
        "pop = pop_raw.copy()"
      ],
      "id": "2c426d87",
      "execution_count": null,
      "outputs": []
    },
    {
      "cell_type": "markdown",
      "metadata": {},
      "source": [
        "## \n",
        "\n",
        "# 데이터 전처리 1 :\n",
        "\n",
        "# pop 데이터 필요한 부분만, index 재부여\n"
      ],
      "id": "28fc0324"
    },
    {
      "cell_type": "code",
      "metadata": {},
      "source": [
        "pop = pop.iloc[1:18,[0,1,3,4,5,6,7,8,9,10,11,12,13]]\n",
        "pop.head()"
      ],
      "id": "90fd4fae",
      "execution_count": null,
      "outputs": []
    },
    {
      "cell_type": "code",
      "metadata": {},
      "source": [
        "pop = pop.reset_index().iloc[:,1:]  # 인덱스를 0부터 다시 부여\n",
        "pop.head()"
      ],
      "id": "3bd982d6",
      "execution_count": null,
      "outputs": []
    },
    {
      "cell_type": "markdown",
      "metadata": {},
      "source": [
        "## \n",
        "\n",
        "# 변수명 변경\n"
      ],
      "id": "ae97aaac"
    },
    {
      "cell_type": "code",
      "metadata": {},
      "source": [
        "market = market.rename(columns={'시장명' : 'market_name',\n",
        "                              '시장유형' : 'type',\n",
        "                              '소재지도로명주소' : 'address_road',\n",
        "                              '시장개설주기' : 'open_period',\n",
        "                              '소재지지번주소' : 'address_old',\n",
        "                              '점포수' : 'store_count',\n",
        "                              '사용가능상품권' : 'certificate',\n",
        "                              '공중화장실 보유여부' : 'public_toilet',\n",
        "                              '주차장 보유여부' : 'parking_lot',\n",
        "                              '개설년도' : 'year' ,\n",
        "                              '데이터기준일자' : 'data_date'})\n",
        "\n",
        "pop = pop.rename(columns={'행정기관' : 'region',\n",
        "                          '총 인구수' : 'total_pop',\n",
        "                          '0~9세' : '0~9',\n",
        "                          '10~19세' : '10~19',\n",
        "                          '20~29세' : '20~29',\n",
        "                          '30~39세' : '30~39',\n",
        "                          '40~49세' : '40~49',\n",
        "                          '50~59세' : '50~59',\n",
        "                          '60~69세' : '60~69',\n",
        "                          '70~79세' : '70~79',\n",
        "                          '80~89세' : '80~89',\n",
        "                          '90~99세' : '90~99',\n",
        "                          '100세 이상' : '100_over',\n",
        "                          })"
      ],
      "id": "e5ade039",
      "execution_count": null,
      "outputs": []
    },
    {
      "cell_type": "markdown",
      "metadata": {},
      "source": [
        "## \n",
        "\n",
        "# 데이터 전처리 2 :\n",
        "\n",
        "# pop 데이터의 모든 수치 컬럼을 정수 변환하기\n"
      ],
      "id": "c0a8265f"
    },
    {
      "cell_type": "code",
      "metadata": {},
      "source": [
        "pop.head()"
      ],
      "id": "ce4146bd",
      "execution_count": null,
      "outputs": []
    },
    {
      "cell_type": "markdown",
      "metadata": {},
      "source": [
        "total_pop 컬럼이 문자열 컬럼이다. 그 외 컬럼들은 불필요한 실수값이다.\n"
      ],
      "id": "76330987"
    },
    {
      "cell_type": "code",
      "metadata": {},
      "source": [
        "region = pop['region'] #행정기관 빼내기\n",
        "pop = pop.iloc[:,1:].astype(int) #행정기관 빼고 나머지 열을 정수로 바꿈.\n",
        "pop = pd.concat([region, pop], axis = 1) #빼낸 행정기관을 다시 합침\n",
        "pop.info()"
      ],
      "id": "41485b9f",
      "execution_count": null,
      "outputs": []
    },
    {
      "cell_type": "markdown",
      "metadata": {},
      "source": [
        "## \n",
        "\n",
        "# 데이터 전처리 3 :\n",
        "\n",
        "# market 데이터의 주소 컬럼에서 지역명 뽑아오기\n"
      ],
      "id": "027c6ef0"
    },
    {
      "cell_type": "code",
      "metadata": {},
      "source": [
        "market['address_road'].head()  # 도로주소 컬럼 확인"
      ],
      "id": "603f8879",
      "execution_count": null,
      "outputs": []
    },
    {
      "cell_type": "code",
      "metadata": {},
      "source": [
        "market['region'] = market[\"address_road\"].str.split(' ').str[0]  # 공백을 기준으로 분리함."
      ],
      "id": "1172c7ba",
      "execution_count": null,
      "outputs": []
    },
    {
      "cell_type": "markdown",
      "metadata": {},
      "source": [
        "# 데이터 전처리 4 :\n",
        "\n",
        "# pop 데이터 지역명을 market 데이터와 동일하게 수정\n"
      ],
      "id": "d9d165ff"
    },
    {
      "cell_type": "code",
      "metadata": {},
      "source": [
        "pop.head()  # pop 데이터는 region 컬럼을 가지고 있음."
      ],
      "id": "a439a9ba",
      "execution_count": null,
      "outputs": []
    },
    {
      "cell_type": "code",
      "metadata": {},
      "source": [
        "pop['region'] = pop['region'].str.replace('세종특별자치시','세종특별시')  # 값 바꾸기\n",
        "pop['region'] = pop['region'].str.replace('제주특별자치도','제주도')"
      ],
      "id": "b656e3d6",
      "execution_count": null,
      "outputs": []
    },
    {
      "cell_type": "code",
      "metadata": {},
      "source": [
        "pop['region'][0]"
      ],
      "id": "4a6f8a91",
      "execution_count": null,
      "outputs": []
    },
    {
      "cell_type": "code",
      "metadata": {},
      "source": [
        "pop['region'] = pop['region'].str.replace('  ','')  # 공백 없애기"
      ],
      "id": "f116d584",
      "execution_count": null,
      "outputs": []
    },
    {
      "cell_type": "markdown",
      "metadata": {},
      "source": [
        "## \n",
        "\n",
        "# 데이터 전처리 5 :\n",
        "\n",
        "# 인구 연령 범주화 하기\n"
      ],
      "id": "fa86a0cf"
    },
    {
      "cell_type": "code",
      "metadata": {},
      "source": [
        "pop.head()  # pop 데이터 확인"
      ],
      "id": "04d4fc0e",
      "execution_count": null,
      "outputs": []
    },
    {
      "cell_type": "code",
      "metadata": {},
      "source": [
        "# 연령 구간별 범주화\n",
        "pop['under20'] = pop['0~9'] + pop['10~19']\n",
        "pop['2050'] = pop['20~29'] + pop['30~39'] + pop['40~49'] + pop['50~59']\n",
        "pop['over60'] = pop['60~69'] + pop['70~79'] + pop['80~89'] + pop['90~99'] + pop['100_over']"
      ],
      "id": "eef65ffb",
      "execution_count": null,
      "outputs": []
    },
    {
      "cell_type": "markdown",
      "metadata": {},
      "source": [
        "## \n",
        "\n",
        "## \n",
        "\n",
        "# 지역별 데이터 프레임 만들기\n"
      ],
      "id": "6b650c90"
    },
    {
      "cell_type": "code",
      "metadata": {},
      "source": [
        "market_region = market.groupby('region', as_index = False)\\\n",
        "      .agg(market_count = ('market_name', 'count'),\n",
        "           store_sum = ('store_count', 'sum'), \n",
        "           certificate_count = ('certificate', 'count'))"
      ],
      "id": "4d300857",
      "execution_count": null,
      "outputs": []
    },
    {
      "cell_type": "code",
      "metadata": {},
      "source": [
        "pop_region = pop[['region', 'total_pop', 'under20', '2050', 'over60']]\n",
        "\n",
        "market_pop = pd.merge(market_region, pop_region, how='left', on='region')"
      ],
      "id": "4ce25baf",
      "execution_count": null,
      "outputs": []
    },
    {
      "cell_type": "markdown",
      "metadata": {},
      "source": [
        "## \n",
        "\n",
        "# 지역별 데이터 프레임에 파생 변수 추가하기 1\n",
        "\n",
        "## (연령 구간별 인구 비율 계산)\n"
      ],
      "id": "d274bde1"
    },
    {
      "cell_type": "code",
      "metadata": {},
      "source": [
        "market_pop['pct_under20'] = round(market_pop['under20'] / market_pop['total_pop'] * 100, 1) #미성년자 비율 추가 + 소숫점 정리\n",
        "market_pop['pct_2050'] = round(market_pop['2050'] / market_pop['total_pop'] * 100, 1)\n",
        "market_pop['pct_over60'] = round(market_pop['over60'] / market_pop['total_pop'] * 100, 1)"
      ],
      "id": "9eb23323",
      "execution_count": null,
      "outputs": []
    },
    {
      "cell_type": "markdown",
      "metadata": {},
      "source": [
        "## \n",
        "\n",
        "# 지역별 데이터 프레임에 파생 변수 추가하기 2\n",
        "\n",
        "## (시장.점포 1개 당 60대 이상 인구 비율 계산)\n"
      ],
      "id": "05efdcc7"
    },
    {
      "cell_type": "code",
      "metadata": {},
      "source": [
        "market_pop['old_per_market'] = round(market_pop['over60'] / market_pop['market_count'], 1)\n",
        "market_pop['old_per_store'] = round(market_pop['over60'] / market_pop['store_sum'], 1)"
      ],
      "id": "bb36c6f6",
      "execution_count": null,
      "outputs": []
    },
    {
      "cell_type": "markdown",
      "metadata": {},
      "source": [
        "## \n",
        "\n",
        "# 지역별 데이터 프레임에 파생 변수 추가하기 3\n",
        "\n",
        "## (60대 이상 인구 비율이 평균보다 큰 지역, 작은 지역 구분)\n"
      ],
      "id": "b79fff54"
    },
    {
      "cell_type": "code",
      "metadata": {},
      "source": [
        "# 60대 이상 비율의 평균을 구한 뒤 그것보다 높거나 낮다는것 표시.\n",
        "market_pop['over60_mean_updown'] = \\\n",
        "  np.where(market_pop['pct_over60'] >= market_pop['pct_over60'].mean(), 'UP', 'DOWN') "
      ],
      "id": "b169756a",
      "execution_count": null,
      "outputs": []
    },
    {
      "cell_type": "markdown",
      "metadata": {},
      "source": [
        "## 평균 기준으로 한 근거 : 60대 이상 박스플롯\n"
      ],
      "id": "ba67af02"
    },
    {
      "cell_type": "code",
      "metadata": {},
      "source": [
        "px.box(data_frame = market_pop, y = 'pct_over60')"
      ],
      "id": "37ca3a6d",
      "execution_count": null,
      "outputs": []
    },
    {
      "cell_type": "markdown",
      "metadata": {},
      "source": [
        "## \n",
        "\n",
        "# 지역별 데이터 프레임에 파생 변수 추가하기 4\n",
        "\n",
        "## (온누리 상품권을 사용하는 시장 수)\n"
      ],
      "id": "82e0cbb4"
    },
    {
      "cell_type": "code",
      "metadata": {},
      "source": [
        "market_pop['pct_certificate'] = \\\n",
        " round(market_pop['certificate_count'] / market_pop['market_count'] *100, 1)"
      ],
      "id": "83f01532",
      "execution_count": null,
      "outputs": []
    },
    {
      "cell_type": "code",
      "metadata": {},
      "source": [
        "market_pop.head()"
      ],
      "id": "a212da11",
      "execution_count": null,
      "outputs": []
    },
    {
      "cell_type": "markdown",
      "metadata": {},
      "source": [
        "## \n",
        "\n",
        "## \n",
        "\n",
        "# 시각화 1 : 지역별 인구 수 막대 그래프\n"
      ],
      "id": "a393aa88"
    },
    {
      "cell_type": "code",
      "metadata": {},
      "source": [
        "px.bar(data_frame = market_pop,  x='total_pop', y='region', orientation='h', color='region') \\\n",
        "  .update_layout(yaxis = {\"categoryorder\":\"total ascending\"}).show()"
      ],
      "id": "4ae15e67",
      "execution_count": null,
      "outputs": []
    },
    {
      "cell_type": "markdown",
      "metadata": {},
      "source": [
        "경기도와 서울이 가장 많다.\n",
        "\n",
        "## \n",
        "\n",
        "# 시각화 2 : 지역별 60세 이상 인구 비율 막대 그래프\n"
      ],
      "id": "c248c3ac"
    },
    {
      "cell_type": "code",
      "metadata": {},
      "source": [
        " px.bar(data_frame = market_pop, x='over60', y='region',  orientation='h', color ='region') \\\n",
        "  .update_layout(yaxis = {\"categoryorder\":\"total ascending\"}).show()"
      ],
      "id": "633101ce",
      "execution_count": null,
      "outputs": []
    },
    {
      "cell_type": "markdown",
      "metadata": {},
      "source": [
        "경기도와 서울이 가장 많다.\n",
        "\n",
        "## \n",
        "\n",
        "# 시각화 3 : 지역별 인구 비율 누적 막대 그래프\n",
        "\n",
        "#### 보고 싶은 데이터만 df로 가져옴\n"
      ],
      "id": "1c8a58fa"
    },
    {
      "cell_type": "code",
      "metadata": {},
      "source": [
        "df = market_pop[['region', 'pct_under20', 'pct_2050', 'pct_over60']].sort_values('pct_over60', ascending = False)\n",
        "df"
      ],
      "id": "afd22913",
      "execution_count": null,
      "outputs": []
    },
    {
      "cell_type": "markdown",
      "metadata": {},
      "source": [
        "#### 데이터프레임을 길게 변환\n"
      ],
      "id": "46551b0a"
    },
    {
      "cell_type": "code",
      "metadata": {},
      "source": [
        "df_melted = df.melt(id_vars='region', var_name='ageg', value_name='pct')\n",
        "df_melted.head(20)"
      ],
      "id": "743f533a",
      "execution_count": null,
      "outputs": []
    },
    {
      "cell_type": "code",
      "metadata": {},
      "source": [
        "# Plotly Express를 사용하여 누적 가로 막대 그래프 생성\n",
        "fig = px.bar(df_melted,          # 데이터프레임 df_melted를 사용\n",
        "             x='pct',            # x축에는 'pct(각 연령대의 비율)' 열을 배치.\n",
        "             y='region',         # y축에는 'region(각 지역)' 열을 배치.\n",
        "             color='ageg',       # 'ageg' 열에 따라 막대의 색상을 지정합니다.\n",
        "             orientation='h',    # 가로 방향으로 막대 그래프를 생성합니다.\n",
        "             color_discrete_map={'pct_under20': 'skyblue',\n",
        "                                 'pct_2050': 'lightyellow',\n",
        "                                 'pct_over60': 'salmon'},     # 'ageg' 열의 값: '색상' 딕셔너리 매핑하여 색상을 지정합니다.\n",
        "             category_orders={'region': df['region'].tolist()})  # df의 region을 기준으로 그래프 정렬 \n",
        "\n",
        "# 그래프 설정\n",
        "fig.update_layout(\n",
        "    barmode='stack',     # 누적 막대 그래프를 생성합니다.\n",
        "    title='연령대별 인구 비율 비교',  # 그래프의 제목을 설정합니다.\n",
        "    xaxis_title='pct',   # x축의 레이블을 설정합니다.\n",
        "    yaxis_title='region'  # y축의 레이블을 설정합니다.\n",
        ")\n",
        "\n",
        "fig.show()  # 그래프를 출력합니다."
      ],
      "id": "7f6d0cfe",
      "execution_count": null,
      "outputs": []
    },
    {
      "cell_type": "markdown",
      "metadata": {},
      "source": [
        "## \n",
        "\n",
        "# 시각화 4 : 지역별 시장 수 막대그래프\n"
      ],
      "id": "2f3a9fbc"
    },
    {
      "cell_type": "code",
      "metadata": {},
      "source": [
        "px.bar(data_frame = market_pop,  x='market_count', y='region', orientation='h', color='region') \\\n",
        "  .update_layout(yaxis = {\"categoryorder\":\"total ascending\"}).show()"
      ],
      "id": "f7375dd3",
      "execution_count": null,
      "outputs": []
    },
    {
      "cell_type": "markdown",
      "metadata": {},
      "source": [
        "서울, 부산, 경남, 경북, 경기도 순으로 시장 수가 많다.\n",
        "\n",
        "## \n",
        "\n",
        "# 시각화 5 : 지역별 점포 수 막대 그래프\n"
      ],
      "id": "0a1b2c57"
    },
    {
      "cell_type": "code",
      "metadata": {},
      "source": [
        "px.bar(data_frame = market_pop,  x = 'store_sum', y = 'region', orientation='h', color = 'region') \\\n",
        "  .update_layout(yaxis = {\"categoryorder\":\"total ascending\"}).show()"
      ],
      "id": "1e6e9298",
      "execution_count": null,
      "outputs": []
    },
    {
      "cell_type": "markdown",
      "metadata": {},
      "source": [
        "서울, 부산, 경기도, 경남, 경북 순으로 시장 수가 많다.\n",
        "\n",
        "## \n",
        "\n",
        "# 시각화 6 : 지역별 60대 인구 / 시장 수\n"
      ],
      "id": "3b7fc327"
    },
    {
      "cell_type": "code",
      "metadata": {},
      "source": [
        "px.bar(data_frame = market_pop, x = 'old_per_market', y = 'region', orientation ='h', color = 'region') \\\n",
        " .update_layout(yaxis = {\"categoryorder\":\"total ascending\"}).show()"
      ],
      "id": "e89e1654",
      "execution_count": null,
      "outputs": []
    },
    {
      "cell_type": "markdown",
      "metadata": {},
      "source": [
        "경기도가 가장 많음.\n",
        "\n",
        "## \n",
        "\n",
        "# 시각화 7 : 지역별 60대 인구 / 점포 수\n"
      ],
      "id": "b0177e22"
    },
    {
      "cell_type": "code",
      "metadata": {},
      "source": [
        "px.bar(data_frame = market_pop, x = 'old_per_store', y = 'region', orientation = 'h', color = 'region') \\\n",
        "  .update_layout(yaxis = {\"categoryorder\":\"total ascending\"}).show()"
      ],
      "id": "c4303761",
      "execution_count": null,
      "outputs": []
    },
    {
      "cell_type": "markdown",
      "metadata": {},
      "source": [
        "경기도가 가장 많음.\n",
        "\n",
        "## \n",
        "\n",
        "# 경기도의 온누리 상품권을 사용하는 시장 수\n"
      ],
      "id": "3d01338d"
    },
    {
      "cell_type": "code",
      "metadata": {},
      "source": [
        "market_pop.query('region == \"경기도\"')[\"pct_certificate\"]"
      ],
      "id": "7d178997",
      "execution_count": null,
      "outputs": []
    },
    {
      "cell_type": "markdown",
      "metadata": {},
      "source": [
        "# 요약\n",
        "1. 인구가 가장 많은 지역은 경기도.\n",
        "2. 60대 이상 인구가 가장 많은 지역은 경기도.\n",
        "3. 시장 수, 점포 수 상위권에 경기도가 있다.\n",
        "4. 시장 당 60대 이상 인구가 가장 많은 지역은 경기도.\n",
        "5. 점포 당 60대 이상 인구가 가장 많은 지역은 경기도.\n",
        "\n",
        "# 결론\n",
        "* 경기도 전통시장을 활성화 했을 때 다른 지역에 비해서 효과적일 것으로 예상.\n",
        "* 온누리 상품권이 사용 불가한 7%의 시장에서 온누리 상품권 사용 가능하게 장려."
      ],
      "id": "04bebdc9"
    }
  ],
  "metadata": {
    "kernelspec": {
      "name": "python3",
      "language": "python",
      "display_name": "Python 3 (ipykernel)"
    }
  },
  "nbformat": 4,
  "nbformat_minor": 5
}